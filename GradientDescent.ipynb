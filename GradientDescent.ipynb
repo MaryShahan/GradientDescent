{
  "nbformat": 4,
  "nbformat_minor": 0,
  "metadata": {
    "colab": {
      "name": "GradientDescent.ipynb",
      "provenance": [],
      "authorship_tag": "ABX9TyPEVgpHd7/4D6o0+HOF/ejb",
      "include_colab_link": true
    },
    "kernelspec": {
      "name": "python3",
      "display_name": "Python 3"
    },
    "language_info": {
      "name": "python"
    }
  },
  "cells": [
    {
      "cell_type": "markdown",
      "metadata": {
        "id": "view-in-github",
        "colab_type": "text"
      },
      "source": [
        "<a href=\"https://colab.research.google.com/github/maryamshahani/GradientDescent/blob/main/GradientDescent.ipynb\" target=\"_parent\"><img src=\"https://colab.research.google.com/assets/colab-badge.svg\" alt=\"Open In Colab\"/></a>"
      ]
    },
    {
      "cell_type": "code",
      "execution_count": 1,
      "metadata": {
        "colab": {
          "base_uri": "https://localhost:8080/"
        },
        "id": "zMhVhERGUhjA",
        "outputId": "f24cf7b1-cbac-45dc-8e1a-cfa48f2758ed"
      },
      "outputs": [
        {
          "output_type": "stream",
          "name": "stdout",
          "text": [
            "*****************************\n",
            "EPOCH 0\n",
            "*****************************\n",
            "Average Loss:  0.33944294852408824\n",
            "*****************************\n",
            "EPOCH 1\n",
            "*****************************\n",
            "Average Loss:  0.33147083470744965\n",
            "*****************************\n",
            "EPOCH 2\n",
            "*****************************\n",
            "Average Loss:  0.32499752814643046\n",
            "*****************************\n",
            "EPOCH 3\n",
            "*****************************\n",
            "Average Loss:  0.31973828925825093\n",
            "*****************************\n",
            "EPOCH 4\n",
            "*****************************\n",
            "Average Loss:  0.3154527992144233\n",
            "*****************************\n",
            "EPOCH 5\n",
            "*****************************\n",
            "Average Loss:  0.3119424130828664\n",
            "*****************************\n",
            "EPOCH 6\n",
            "*****************************\n",
            "Average Loss:  0.30904555254773175\n",
            "*****************************\n",
            "EPOCH 7\n",
            "*****************************\n",
            "Average Loss:  0.3066324010104734\n",
            "*****************************\n",
            "EPOCH 8\n",
            "*****************************\n",
            "Average Loss:  0.30459963557320424\n",
            "*****************************\n",
            "EPOCH 9\n",
            "*****************************\n",
            "Average Loss:  0.30286560086854775\n"
          ]
        }
      ],
      "source": [
        "import numpy as np\n",
        "\n",
        "# Activation Function\n",
        "def sigmoid(w_sum):\n",
        "    return 1/(1+np.exp(-w_sum))\n",
        "\n",
        "# Get Model Output\n",
        "def get_prediction(features, weights, bias):\n",
        "    return sigmoid(np.dot(features, weights) + bias)\n",
        "\n",
        "# Loss Function\n",
        "def cross_entropy(target, pred):\n",
        "    return -(target*np.log10(pred)+(1-target)*(np.log10(1-pred)))\n",
        "\n",
        "# Update Weights\n",
        "def gradient_descent(feature, weights, target, prediction, l_rate, bias):\n",
        "    '''\n",
        "    argument data types:\n",
        "        feature, weights = list with 3 items\n",
        "        target = integer (0 or 1)\n",
        "        prediction, l_rate, bias = floating point numbers\n",
        "    returns (tuple):\n",
        "        new weights, new bias    \n",
        "    '''\n",
        "    new_weights = []\n",
        "    bias += l_rate*(target - prediction) #new_bias = bias + l_rate*(target - prediction)\n",
        "    for x,w in zip(feature, weights):\n",
        "      new_w = w + l_rate*(target - prediction)*x\n",
        "      new_weights.append(new_w)\n",
        "\n",
        "    return new_weights,bias\n",
        "# Data\n",
        "features = np.array(([0.1,0.5,0.2],\n",
        "                     [0.2,0.3,0.1],\n",
        "                     [0.7,0.4,0.2],\n",
        "                     [0.1,0.4,0.3]))\n",
        "\n",
        "targets = np.array([0,1,0,1])\n",
        "weights = np.array([0.4, 0.2, 0.6])\n",
        "bias = 0.5\n",
        "l_rate = 0.1\n",
        "\n",
        "# Gradient Descent Steps Over 10 Epochs\n",
        "for epoch in range(10):\n",
        "    for x, y in zip(features, targets):\n",
        "        pred = get_prediction(x, weights, bias)\n",
        "        error = cross_entropy(y, pred)\n",
        "        weights, bias = gradient_descent(x, weights, y, pred, l_rate, bias)\n",
        "        \n",
        "    # Calculate and Print Average Loss\n",
        "    predictions = get_prediction(features, weights, bias)\n",
        "    average_loss = np.mean(cross_entropy(targets, predictions))\n",
        "    print(\"*****************************\")\n",
        "    print(\"EPOCH\", str(epoch))\n",
        "    print(\"*****************************\")\n",
        "    print(\"Average Loss: \", average_loss)"
      ]
    }
  ]
}